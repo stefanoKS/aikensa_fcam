{
 "cells": [
  {
   "cell_type": "code",
   "execution_count": 1,
   "metadata": {},
   "outputs": [],
   "source": [
    "import os\n",
    "os.environ[\"OPENCV_IO_MAX_IMAGE_PIXELS\"] = pow(2,40).__str__()\n",
    "import cv2 # import after setting OPENCV_IO_MAX_IMAGE_PIXELS"
   ]
  },
  {
   "cell_type": "code",
   "execution_count": 22,
   "metadata": {},
   "outputs": [
    {
     "data": {
      "text/plain": [
       "True"
      ]
     },
     "execution_count": 22,
     "metadata": {},
     "output_type": "execute_result"
    }
   ],
   "source": [
    "#read the image and reduce the size by x times\n",
    "size_reduce = 1.15\n",
    "img = cv2.imread('./homography_template.png')\n",
    "img = cv2.resize(img, (0,0), fx=1/size_reduce, fy=1/size_reduce)\n",
    "\n",
    "#Add 1200 pixel of white color to the left and right of image\n",
    "pixel_addition = 1000\n",
    "img = cv2.copyMakeBorder(img, 0, 0, pixel_addition, pixel_addition, cv2.BORDER_CONSTANT, value=[255, 255, 255])\n",
    "\n",
    "\n",
    "#output the image\n",
    "cv2.imwrite('homography_template_border.png', img)"
   ]
  },
  {
   "cell_type": "code",
   "execution_count": 24,
   "metadata": {},
   "outputs": [
    {
     "name": "stdout",
     "output_type": "stream",
     "text": [
      "(2021, 11859, 3)\n"
     ]
    }
   ],
   "source": [
    "#print image size\n",
    "print(img.shape)"
   ]
  },
  {
   "cell_type": "code",
   "execution_count": null,
   "metadata": {},
   "outputs": [],
   "source": []
  }
 ],
 "metadata": {
  "kernelspec": {
   "display_name": "aikensadcam",
   "language": "python",
   "name": "python3"
  },
  "language_info": {
   "codemirror_mode": {
    "name": "ipython",
    "version": 3
   },
   "file_extension": ".py",
   "mimetype": "text/x-python",
   "name": "python",
   "nbconvert_exporter": "python",
   "pygments_lexer": "ipython3",
   "version": "3.9.19"
  }
 },
 "nbformat": 4,
 "nbformat_minor": 2
}
