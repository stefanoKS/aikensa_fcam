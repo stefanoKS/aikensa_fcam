{
 "cells": [
  {
   "cell_type": "code",
   "execution_count": 10,
   "metadata": {},
   "outputs": [],
   "source": [
    "import os\n",
    "os.environ[\"OPENCV_IO_MAX_IMAGE_PIXELS\"] = pow(2,40).__str__()\n",
    "import cv2 # import after setting OPENCV_IO_MAX_IMAGE_PIXELS"
   ]
  },
  {
   "cell_type": "code",
   "execution_count": 11,
   "metadata": {},
   "outputs": [
    {
     "data": {
      "text/plain": [
       "True"
      ]
     },
     "execution_count": 11,
     "metadata": {},
     "output_type": "execute_result"
    }
   ],
   "source": [
    "#read the image and reduce the size by x times\n",
    "\n",
    "size_reduce = 12\n",
    "\n",
    "img = cv2.imread('./charuco_template_large.png')\n",
    "img = cv2.resize(img, (0,0), fx=1/size_reduce, fy=1/size_reduce)\n",
    "#Add 200 pixel of white color to the left and right of image\n",
    "img = cv2.copyMakeBorder(img, 0, 0, 400, 400, cv2.BORDER_CONSTANT, value=[255, 255, 255])\n",
    "\n",
    "\n",
    "#output the image\n",
    "cv2.imwrite('charuco_template.png', img)"
   ]
  },
  {
   "cell_type": "code",
   "execution_count": 12,
   "metadata": {},
   "outputs": [
    {
     "name": "stdout",
     "output_type": "stream",
     "text": [
      "(2805, 4772, 3)\n"
     ]
    }
   ],
   "source": [
    "#print image size\n",
    "print(img.shape)"
   ]
  },
  {
   "cell_type": "code",
   "execution_count": null,
   "metadata": {},
   "outputs": [],
   "source": []
  }
 ],
 "metadata": {
  "kernelspec": {
   "display_name": "aikensadcam",
   "language": "python",
   "name": "python3"
  },
  "language_info": {
   "codemirror_mode": {
    "name": "ipython",
    "version": 3
   },
   "file_extension": ".py",
   "mimetype": "text/x-python",
   "name": "python",
   "nbconvert_exporter": "python",
   "pygments_lexer": "ipython3",
   "version": "3.8.undefined"
  }
 },
 "nbformat": 4,
 "nbformat_minor": 2
}
