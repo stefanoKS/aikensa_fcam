{
 "cells": [
  {
   "cell_type": "code",
   "execution_count": 1,
   "metadata": {},
   "outputs": [],
   "source": [
    "#GENERATE NEW ARUCO BOARD\n",
    "import cv2\n",
    "import numpy as np\n",
    "import os\n",
    "import datetime"
   ]
  },
  {
   "cell_type": "code",
   "execution_count": 2,
   "metadata": {},
   "outputs": [],
   "source": [
    "dict_type = cv2.aruco.DICT_APRILTAG_36H10\n",
    "squares = (83, 16)\n",
    "square_length = 0.03\n",
    "marker_length = 0.025\n",
    "\n",
    "aruco_dict = cv2.aruco.getPredefinedDictionary(dict_type)\n",
    "\n",
    "resMultiplier = 1"
   ]
  },
  {
   "cell_type": "code",
   "execution_count": 3,
   "metadata": {},
   "outputs": [],
   "source": [
    "width = int(24803)\n",
    "height = int(4724)\n",
    "padding = int(30)"
   ]
  },
  {
   "cell_type": "code",
   "execution_count": 4,
   "metadata": {},
   "outputs": [],
   "source": [
    "charboard = cv2.aruco.CharucoBoard(squares, square_length, marker_length, aruco_dict)"
   ]
  },
  {
   "cell_type": "code",
   "execution_count": 5,
   "metadata": {},
   "outputs": [],
   "source": [
    "board_with_padding = 255 * np.ones((int(height*resMultiplier), int(width*resMultiplier)), dtype=np.uint8)\n",
    "board = charboard.generateImage((int(width*resMultiplier), int(height*resMultiplier)))"
   ]
  },
  {
   "cell_type": "code",
   "execution_count": 6,
   "metadata": {},
   "outputs": [],
   "source": [
    "y_offset = (board_with_padding.shape[0] - board.shape[0]) // 2\n",
    "x_offset = (board_with_padding.shape[1] - board.shape[1]) // 2"
   ]
  },
  {
   "cell_type": "code",
   "execution_count": 7,
   "metadata": {},
   "outputs": [],
   "source": [
    "board_with_padding[y_offset:y_offset+board.shape[0], x_offset:x_offset+board.shape[1]] = board"
   ]
  },
  {
   "cell_type": "code",
   "execution_count": 8,
   "metadata": {},
   "outputs": [],
   "source": [
    "output_dir = os.path.join(os.getcwd(), \"charucoboard\")\n",
    "if not os.path.exists(output_dir):\n",
    "    os.makedirs(output_dir)\n"
   ]
  },
  {
   "cell_type": "code",
   "execution_count": 9,
   "metadata": {},
   "outputs": [
    {
     "name": "stdout",
     "output_type": "stream",
     "text": [
      "PNG written to:\n",
      "c:\\Users\\sekkei\\Documents\\aikensafcam\\aikensa_fcam\\aikensa\\homography_template\\charucoboard\\charuco.png\n"
     ]
    }
   ],
   "source": [
    "# Save as PNG\n",
    "\n",
    "#resize to halp size\n",
    "\n",
    "board_with_padding_scaled = cv2.resize(board_with_padding, (0, 0), fx=1/2, fy=1/2, interpolation=cv2.INTER_LINEAR)\n",
    "\n",
    "now = datetime.datetime.now()\n",
    "filename = f\"charuco.png\"\n",
    "filepath = os.path.join(output_dir, filename)\n",
    "cv2.imwrite(filepath, board_with_padding_scaled)\n",
    "print(\"PNG written to:\")\n",
    "print(filepath)"
   ]
  },
  {
   "cell_type": "code",
   "execution_count": 10,
   "metadata": {},
   "outputs": [],
   "source": [
    "import os\n",
    "os.environ[\"OPENCV_IO_MAX_IMAGE_PIXELS\"] = pow(2,40).__str__()\n",
    "import cv2 # import after setting OPENCV_IO_MAX_IMAGE_PIXELS"
   ]
  },
  {
   "cell_type": "code",
   "execution_count": 11,
   "metadata": {},
   "outputs": [
    {
     "data": {
      "text/plain": [
       "True"
      ]
     },
     "execution_count": 11,
     "metadata": {},
     "output_type": "execute_result"
    }
   ],
   "source": [
    "#read the image and reduce the size by x times\n",
    "size_reduce = 1.0\n",
    "img = cv2.imread('./charucoboard/charuco.png')\n",
    "img = cv2.resize(img, (0,0), fx=1/size_reduce, fy=1/size_reduce)\n",
    "\n",
    "#Add 1200 pixel of white color to the left and right of image\n",
    "pixel_addition = 1500\n",
    "img = cv2.copyMakeBorder(img, 0, 0, pixel_addition, pixel_addition, cv2.BORDER_CONSTANT, value=[255, 255, 255])\n",
    "\n",
    "\n",
    "#output the image\n",
    "cv2.imwrite('homography_template_border.png', img)"
   ]
  },
  {
   "cell_type": "code",
   "execution_count": 12,
   "metadata": {},
   "outputs": [
    {
     "name": "stdout",
     "output_type": "stream",
     "text": [
      "(2362, 15402, 3)\n"
     ]
    }
   ],
   "source": [
    "#print image size\n",
    "print(img.shape)"
   ]
  }
 ],
 "metadata": {
  "kernelspec": {
   "display_name": "aikensadcam",
   "language": "python",
   "name": "python3"
  },
  "language_info": {
   "codemirror_mode": {
    "name": "ipython",
    "version": 3
   },
   "file_extension": ".py",
   "mimetype": "text/x-python",
   "name": "python",
   "nbconvert_exporter": "python",
   "pygments_lexer": "ipython3",
   "version": "3.9.19"
  }
 },
 "nbformat": 4,
 "nbformat_minor": 2
}
