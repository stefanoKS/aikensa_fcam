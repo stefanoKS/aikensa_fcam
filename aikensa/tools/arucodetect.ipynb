{
 "cells": [
  {
   "cell_type": "code",
   "execution_count": 1,
   "metadata": {},
   "outputs": [],
   "source": [
    "import cv2"
   ]
  },
  {
   "cell_type": "code",
   "execution_count": 8,
   "metadata": {},
   "outputs": [],
   "source": [
    "dict_type = cv2.aruco.DICT_5X5_250\n",
    "aruco_dict = cv2.aruco.getPredefinedDictionary(dict_type)\n",
    "parameters = cv2.aruco.DetectorParameters()\n",
    "detector = cv2.aruco.ArucoDetector(aruco_dict, parameters)"
   ]
  },
  {
   "cell_type": "code",
   "execution_count": 13,
   "metadata": {},
   "outputs": [],
   "source": [
    "image = cv2.imread(\"../../combinedImage_lowres_cam2.jpg\")\n",
    "gray = cv2.cvtColor(image, cv2.COLOR_BGR2GRAY)"
   ]
  },
  {
   "cell_type": "code",
   "execution_count": 14,
   "metadata": {},
   "outputs": [],
   "source": [
    "corners, ids, rejected = detector.detectMarkers(image)"
   ]
  },
  {
   "cell_type": "code",
   "execution_count": 15,
   "metadata": {},
   "outputs": [
    {
     "name": "stdout",
     "output_type": "stream",
     "text": [
      "[[1]\n",
      " [3]\n",
      " [2]\n",
      " [0]]\n"
     ]
    }
   ],
   "source": [
    "print(ids)"
   ]
  },
  {
   "cell_type": "code",
   "execution_count": 12,
   "metadata": {},
   "outputs": [
    {
     "name": "stdout",
     "output_type": "stream",
     "text": [
      "()\n"
     ]
    }
   ],
   "source": [
    "print(rejected)"
   ]
  },
  {
   "cell_type": "code",
   "execution_count": 10,
   "metadata": {},
   "outputs": [],
   "source": [
    "if corners and ids is not None:\n",
    "\n",
    "            top_left_corner = None\n",
    "            top_right_corner = None\n",
    "            bottom_left_corner = None\n",
    "            bottom_right_corner = None\n",
    "\n",
    "            for i, corner in zip(ids, corners):\n",
    "                marker_id = i[0]\n",
    "                if marker_id == 0:\n",
    "                    # Top left corner of marker 0\n",
    "                    top_left_corner = corner[0][0]\n",
    "                elif marker_id == 1:\n",
    "                    # Top right corner of marker 1\n",
    "                    top_right_corner = corner[0][1]\n",
    "                elif marker_id == 2:\n",
    "                    # Bottom left corner of marker 2\n",
    "                    bottom_left_corner = corner[0][3]\n",
    "                elif marker_id == 3:\n",
    "                    # Bottom right corner of marker 3\n",
    "                    bottom_right_corner = corner[0][2]"
   ]
  },
  {
   "cell_type": "code",
   "execution_count": null,
   "metadata": {},
   "outputs": [],
   "source": []
  }
 ],
 "metadata": {
  "kernelspec": {
   "display_name": "aikensadcam",
   "language": "python",
   "name": "python3"
  },
  "language_info": {
   "codemirror_mode": {
    "name": "ipython",
    "version": 3
   },
   "file_extension": ".py",
   "mimetype": "text/x-python",
   "name": "python",
   "nbconvert_exporter": "python",
   "pygments_lexer": "ipython3",
   "version": "3.8.-1"
  }
 },
 "nbformat": 4,
 "nbformat_minor": 2
}
