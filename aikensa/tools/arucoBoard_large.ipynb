{
 "cells": [
  {
   "cell_type": "code",
   "execution_count": 2,
   "metadata": {},
   "outputs": [],
   "source": [
    "import cv2\n",
    "import numpy as np\n",
    "import os\n",
    "import datetime\n",
    "from fpdf import FPDF"
   ]
  },
  {
   "cell_type": "code",
   "execution_count": 26,
   "metadata": {},
   "outputs": [],
   "source": [
    "# Initialize ArUco dictionary and parameters for Charuco board\n",
    "dict_type = cv2.aruco.DICT_6X6_250\n",
    "squares = (27, 11)\n",
    "square_length = 0.030\n",
    "marker_length = 0.025\n",
    "aruco_dict = cv2.aruco.getPredefinedDictionary(dict_type)\n",
    "\n",
    "\n",
    "# A4 Paper dimensions in mm are 210 x 297\n",
    "# Converting these to points: 1 mm = 2.83464567 points\n",
    "convertVar = 2.83464567\n",
    "\n",
    "WIDTH_PT = int(841 * convertVar)\n",
    "HEIGHT_PT = int(594 * convertVar)\n",
    "\n",
    "PADDING_PT = int(45 * convertVar)  # 5mm padding\n",
    "\n",
    "resMultiplier = 20 \n"
   ]
  },
  {
   "cell_type": "code",
   "execution_count": 27,
   "metadata": {},
   "outputs": [],
   "source": [
    "charboard = cv2.aruco.CharucoBoard(squares, square_length, marker_length, aruco_dict)"
   ]
  },
  {
   "cell_type": "code",
   "execution_count": 28,
   "metadata": {},
   "outputs": [],
   "source": [
    "charuco_width = WIDTH_PT - 2*PADDING_PT\n",
    "charuco_height = HEIGHT_PT - 2*PADDING_PT"
   ]
  },
  {
   "cell_type": "code",
   "execution_count": 29,
   "metadata": {},
   "outputs": [],
   "source": [
    "board_with_padding = 255 * np.ones((HEIGHT_PT*resMultiplier, WIDTH_PT*resMultiplier), dtype=np.uint8)\n",
    "board = charboard.generateImage((charuco_width*resMultiplier, charuco_height*resMultiplier))"
   ]
  },
  {
   "cell_type": "code",
   "execution_count": 30,
   "metadata": {},
   "outputs": [],
   "source": [
    "y_offset = (board_with_padding.shape[0] - board.shape[0]) // 2\n",
    "x_offset = (board_with_padding.shape[1] - board.shape[1]) // 2"
   ]
  },
  {
   "cell_type": "code",
   "execution_count": 31,
   "metadata": {},
   "outputs": [
    {
     "name": "stdout",
     "output_type": "stream",
     "text": [
      "board_with_padding shape: (33660, 47660)\n",
      "board shape: (28580, 42580)\n",
      "x_offset: 2540\n",
      "y_offset: 2540\n"
     ]
    }
   ],
   "source": [
    "print(\"board_with_padding shape:\", board_with_padding.shape)\n",
    "print(\"board shape:\", board.shape)\n",
    "print(\"x_offset:\", x_offset)\n",
    "print(\"y_offset:\", y_offset)"
   ]
  },
  {
   "cell_type": "code",
   "execution_count": 32,
   "metadata": {},
   "outputs": [],
   "source": [
    "board_with_padding[y_offset:y_offset+board.shape[0], x_offset:x_offset+board.shape[1]] = board"
   ]
  },
  {
   "cell_type": "code",
   "execution_count": 33,
   "metadata": {},
   "outputs": [],
   "source": [
    "output_dir = os.path.join(os.getcwd(), \"charucoboard\")\n",
    "if not os.path.exists(output_dir):\n",
    "    os.makedirs(output_dir)\n"
   ]
  },
  {
   "cell_type": "code",
   "execution_count": 34,
   "metadata": {},
   "outputs": [
    {
     "name": "stdout",
     "output_type": "stream",
     "text": [
      "PNG written to:\n",
      "/home/sekkei-master/Documents/aikensa/aikensa/aikensa/extras/charucoboard/charuco_2024_06_18_132935.png\n"
     ]
    }
   ],
   "source": [
    "# Save as PNG\n",
    "now = datetime.datetime.now()\n",
    "filename = f\"charuco_{now.strftime('%Y_%m_%d_%H%M%S')}.png\"\n",
    "filepath = os.path.join(output_dir, filename)\n",
    "cv2.imwrite(filepath, board_with_padding)\n",
    "print(\"PNG written to:\")\n",
    "print(filepath)"
   ]
  },
  {
   "cell_type": "code",
   "execution_count": 44,
   "metadata": {},
   "outputs": [
    {
     "name": "stdout",
     "output_type": "stream",
     "text": [
      "PDF written to:\n",
      "/home/sekkei-master/Documents/aikensa/aikensa/aikensa/extras/charucoboard/charuco_2024_06_18_132935.pdf\n"
     ]
    }
   ],
   "source": [
    "# Save as PDF using FPDF\n",
    "A1_WIDTH = 1683.78\n",
    "A1_HEIGHT = 2383.94\n",
    "\n",
    "# Create a PDF with custom size for A1\n",
    "pdf = FPDF(orientation='L', unit='pt', format=\"(A1_WIDTH, A1_HEIGHT)\")\n",
    "\n",
    "\n",
    "pdf.add_page()\n",
    "pdf.image(filepath, x = 0, y = 0, w = WIDTH_PT, h = HEIGHT_PT)\n",
    "pdfname = f\"charuco_{now.strftime('%Y_%m_%d_%H%M%S')}.pdf\"\n",
    "pdfpath = os.path.join(output_dir, pdfname)\n",
    "pdf.output(pdfpath)\n",
    "print(\"PDF written to:\")\n",
    "print(pdfpath)\n"
   ]
  }
 ],
 "metadata": {
  "kernelspec": {
   "display_name": "aikensa",
   "language": "python",
   "name": "python3"
  },
  "language_info": {
   "codemirror_mode": {
    "name": "ipython",
    "version": 3
   },
   "file_extension": ".py",
   "mimetype": "text/x-python",
   "name": "python",
   "nbconvert_exporter": "python",
   "pygments_lexer": "ipython3",
   "version": "3.8.19"
  }
 },
 "nbformat": 4,
 "nbformat_minor": 2
}
