{
 "cells": [
  {
   "cell_type": "code",
   "execution_count": 1,
   "metadata": {},
   "outputs": [],
   "source": [
    "import os\n",
    "from ultralytics import YOLO\n",
    "import numpy as np\n",
    "import matplotlib.pyplot as plt\n",
    "from PIL import Image\n",
    "import cv2\n",
    "\n",
    "from sahi import AutoDetectionModel\n",
    "from sahi.predict import get_prediction, get_sliced_prediction, predict\n",
    "\n"
   ]
  },
  {
   "cell_type": "code",
   "execution_count": 2,
   "metadata": {},
   "outputs": [],
   "source": [
    "# path_P658207LE0A_SEGMENT_Model = \"./../models/P658207LE0A_SEGMENT.pt\"\n",
    "# P658207LE0A_SEGMENT_Model = YOLO(path_P658207LE0A_SEGMENT_Model)\n",
    "\n",
    "path_CLIP_Model = \"./../models/658207YA0A_CLIP.pt\"\n",
    "# path_SEGMENT_Model = \"./../models/P731957YA0A_segment.pt\"\n",
    "CLIP_Model = YOLO(path_CLIP_Model)\n",
    "# SEGMENT_Model = YOLO(path_SEGMENT_Model)\n"
   ]
  },
  {
   "cell_type": "code",
   "execution_count": 3,
   "metadata": {},
   "outputs": [],
   "source": [
    "SAHI_CLIP_Model = AutoDetectionModel.from_pretrained(model_type=\"yolov8\",model_path=path_CLIP_Model,\n",
    "                                                                    confidence_threshold=0.5,   \n",
    "                                                                    device=\"cuda:0\")"
   ]
  },
  {
   "cell_type": "code",
   "execution_count": 4,
   "metadata": {},
   "outputs": [
    {
     "name": "stdout",
     "output_type": "stream",
     "text": [
      "c:\\Users\\sekkei\\Documents\\aikensafcam\\aikensa_fcam\\aikensa\\tools\n"
     ]
    }
   ],
   "source": [
    "#get current working directory\n",
    "cwd = os.getcwd()\n",
    "print(cwd)"
   ]
  },
  {
   "cell_type": "code",
   "execution_count": 5,
   "metadata": {},
   "outputs": [],
   "source": [
    "image_path = \"./../tools/sample/01.png\"\n",
    "\n",
    "image = cv2.imread(image_path)\n",
    "#rgb to bgr\n",
    "image = cv2.cvtColor(image, cv2.COLOR_BGR2RGB)"
   ]
  },
  {
   "cell_type": "code",
   "execution_count": 6,
   "metadata": {},
   "outputs": [],
   "source": [
    "ClipDetection = get_sliced_prediction(\n",
    "            image, \n",
    "            SAHI_CLIP_Model,\n",
    "            slice_height=497, slice_width=1960, \n",
    "            overlap_height_ratio=0.0, overlap_width_ratio=0.2,\n",
    "            postprocess_match_metric=\"IOS\",\n",
    "            postprocess_match_threshold=0.005,\n",
    "            postprocess_class_agnostic=True,\n",
    "            postprocess_type=\"GREEDYNMM\",\n",
    "            verbose=0,\n",
    "            perform_standard_pred=False\n",
    "        )\n",
    "\n",
    "ClipDetection.export_visuals(export_dir=\"demo_data/\", rect_th=1, hide_labels=False, hide_conf=True)\n"
   ]
  },
  {
   "cell_type": "code",
   "execution_count": 7,
   "metadata": {},
   "outputs": [
    {
     "name": "stdout",
     "output_type": "stream",
     "text": [
      "\n",
      "WARNING  imgsz=[1960] must be multiple of max stride 32, updating to [1984]\n",
      "image 1/1 c:\\Users\\sekkei\\Documents\\aikensafcam\\aikensa_fcam\\aikensa\\tools\\..\\tools\\sample\\01.png: 64x1984 4 CUTs, 36.8ms\n",
      "Speed: 1.0ms preprocess, 36.8ms inference, 1.0ms postprocess per image at shape (1, 3, 64, 1984)\n",
      "Results saved to \u001b[1mruns\\detect\\predict3\u001b[0m\n"
     ]
    }
   ],
   "source": [
    "result = CLIP_Model(image_path, imgsz=1960, save=True, visualize=False, show_boxes=False, conf=0.01)\n"
   ]
  },
  {
   "cell_type": "code",
   "execution_count": 8,
   "metadata": {},
   "outputs": [
    {
     "ename": "NameError",
     "evalue": "name 'SEGMENT_Model' is not defined",
     "output_type": "error",
     "traceback": [
      "\u001b[1;31m---------------------------------------------------------------------------\u001b[0m",
      "\u001b[1;31mNameError\u001b[0m                                 Traceback (most recent call last)",
      "Cell \u001b[1;32mIn[8], line 5\u001b[0m\n\u001b[0;32m      3\u001b[0m image1 \u001b[38;5;241m=\u001b[39m image[:, :\u001b[38;5;241m2400\u001b[39m, :]\n\u001b[0;32m      4\u001b[0m image2 \u001b[38;5;241m=\u001b[39m image[:, \u001b[38;5;241m-\u001b[39m\u001b[38;5;241m2400\u001b[39m:, :]\n\u001b[1;32m----> 5\u001b[0m segmentation \u001b[38;5;241m=\u001b[39m \u001b[43mSEGMENT_Model\u001b[49m(image1, imgsz\u001b[38;5;241m=\u001b[39m\u001b[38;5;241m1960\u001b[39m, save\u001b[38;5;241m=\u001b[39m\u001b[38;5;28;01mTrue\u001b[39;00m, visualize\u001b[38;5;241m=\u001b[39m\u001b[38;5;28;01mFalse\u001b[39;00m, show_boxes\u001b[38;5;241m=\u001b[39m\u001b[38;5;28;01mFalse\u001b[39;00m, conf\u001b[38;5;241m=\u001b[39m\u001b[38;5;241m0.3\u001b[39m, retina_masks\u001b[38;5;241m=\u001b[39m\u001b[38;5;28;01mTrue\u001b[39;00m)\n\u001b[0;32m      6\u001b[0m segmentation \u001b[38;5;241m=\u001b[39m SEGMENT_Model(image2, imgsz\u001b[38;5;241m=\u001b[39m\u001b[38;5;241m1960\u001b[39m, save\u001b[38;5;241m=\u001b[39m\u001b[38;5;28;01mTrue\u001b[39;00m, visualize\u001b[38;5;241m=\u001b[39m\u001b[38;5;28;01mFalse\u001b[39;00m, show_boxes\u001b[38;5;241m=\u001b[39m\u001b[38;5;28;01mFalse\u001b[39;00m, conf\u001b[38;5;241m=\u001b[39m\u001b[38;5;241m0.3\u001b[39m, retina_masks\u001b[38;5;241m=\u001b[39m\u001b[38;5;28;01mTrue\u001b[39;00m)\n",
      "\u001b[1;31mNameError\u001b[0m: name 'SEGMENT_Model' is not defined"
     ]
    }
   ],
   "source": [
    "#predict segmentations\n",
    "image = cv2.cvtColor(image, cv2.COLOR_BGR2RGB)\n",
    "image1 = image[:, :2400, :]\n",
    "image2 = image[:, -2400:, :]\n",
    "segmentation = SEGMENT_Model(image1, imgsz=1960, save=True, visualize=False, show_boxes=False, conf=0.3, retina_masks=True)\n",
    "segmentation = SEGMENT_Model(image2, imgsz=1960, save=True, visualize=False, show_boxes=False, conf=0.3, retina_masks=True)"
   ]
  }
 ],
 "metadata": {
  "kernelspec": {
   "display_name": "aikensafcam",
   "language": "python",
   "name": "python3"
  },
  "language_info": {
   "codemirror_mode": {
    "name": "ipython",
    "version": 3
   },
   "file_extension": ".py",
   "mimetype": "text/x-python",
   "name": "python",
   "nbconvert_exporter": "python",
   "pygments_lexer": "ipython3",
   "version": "3.9.19"
  }
 },
 "nbformat": 4,
 "nbformat_minor": 2
}
